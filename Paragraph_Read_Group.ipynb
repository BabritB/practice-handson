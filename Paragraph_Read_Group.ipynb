{
  "nbformat": 4,
  "nbformat_minor": 0,
  "metadata": {
    "colab": {
      "name": "Paragraph_Read_Group.ipynb",
      "provenance": [],
      "authorship_tag": "ABX9TyOeiD6jEWes7Jx2LBnyvsAM",
      "include_colab_link": true
    },
    "kernelspec": {
      "name": "python3",
      "display_name": "Python 3"
    }
  },
  "cells": [
    {
      "cell_type": "markdown",
      "metadata": {
        "id": "view-in-github",
        "colab_type": "text"
      },
      "source": [
        "<a href=\"https://colab.research.google.com/github/BabritB/quality-thought-training-class/blob/master/Paragraph_Read_Group.ipynb\" target=\"_parent\"><img src=\"https://colab.research.google.com/assets/colab-badge.svg\" alt=\"Open In Colab\"/></a>"
      ]
    },
    {
      "cell_type": "markdown",
      "metadata": {
        "id": "ClFBVc5r0Cm2",
        "colab_type": "text"
      },
      "source": [
        "## Read paragraph and group words."
      ]
    },
    {
      "cell_type": "code",
      "metadata": {
        "id": "wc8HMcJj0DOd",
        "colab_type": "code",
        "colab": {}
      },
      "source": [
        "def group_para_words(paragraph):\n",
        "    filter_para=paragraph.replace(',','').lower()\n",
        "    unwanted_words=['to','is','the','this','of','has','have','you','at','a','an','and','or','that']\n",
        "    list_all_words=[wrd.replace('.','') for wrd in filter_para.split(' ') if wrd not in unwanted_words]\n",
        "    wrd_freq=[list_all_words.count(n_wrd) for n_wrd in list_all_words]\n",
        "    combine_list=list(zip(list_all_words,wrd_freq))\n",
        "    return list(set(combine_list))"
      ],
      "execution_count": 0,
      "outputs": []
    },
    {
      "cell_type": "code",
      "metadata": {
        "id": "vk-wCXu-0Hhk",
        "colab_type": "code",
        "colab": {}
      },
      "source": [
        "paragraph=\"Guides are text-based articles that help you remove roadblocks and solve technical problems faster with reliable, just-in-time answers. With helpful resources like code blocks and real-life examples, guides are easy to search for quick answers or dive deep on a specific technology question.Data visualization plays a crucial role in exploratory data analysis and communicating business insights. However, there are several human factors that are also an important part of generating unbiased and useful results. In this guide, you will learn about these concepts, which will help you generate meaningful business insights through data visualization using R.When you have a lot of variables to analyze, it becomes important to decide which one to visualize. The human ability to use subject matter expertise and domain knowledge to identify such features is required. A few examples are discussed in the section below.The first couple of lines of code below give the number of records in the dataset that have an age below 18 years. We have three such records. The third line of code removes such records, while the fourth line prints the dimensions of the new data: 566 observations and 12 variables.Finally, look again at the summary of the age variable. This shows that the range of age is now between 23 to 76 years, indicating that the correction has been made.\""
      ],
      "execution_count": 0,
      "outputs": []
    },
    {
      "cell_type": "code",
      "metadata": {
        "id": "GtWm6OQK0KzK",
        "colab_type": "code",
        "colab": {
          "base_uri": "https://localhost:8080/",
          "height": 54
        },
        "outputId": "8fedaf6e-e9a5-4d57-cd56-2ccf4e6d8089"
      },
      "source": [
        "print(paragraph)"
      ],
      "execution_count": 3,
      "outputs": [
        {
          "output_type": "stream",
          "text": [
            "Guides are text-based articles that help you remove roadblocks and solve technical problems faster with reliable, just-in-time answers. With helpful resources like code blocks and real-life examples, guides are easy to search for quick answers or dive deep on a specific technology question.Data visualization plays a crucial role in exploratory data analysis and communicating business insights. However, there are several human factors that are also an important part of generating unbiased and useful results. In this guide, you will learn about these concepts, which will help you generate meaningful business insights through data visualization using R.When you have a lot of variables to analyze, it becomes important to decide which one to visualize. The human ability to use subject matter expertise and domain knowledge to identify such features is required. A few examples are discussed in the section below.The first couple of lines of code below give the number of records in the dataset that have an age below 18 years. We have three such records. The third line of code removes such records, while the fourth line prints the dimensions of the new data: 566 observations and 12 variables.Finally, look again at the summary of the age variable. This shows that the range of age is now between 23 to 76 years, indicating that the correction has been made.\n"
          ],
          "name": "stdout"
        }
      ]
    },
    {
      "cell_type": "code",
      "metadata": {
        "id": "YhYF-1dP0UW-",
        "colab_type": "code",
        "colab": {}
      },
      "source": [
        "group_list=group_para_words(paragraph)"
      ],
      "execution_count": 0,
      "outputs": []
    },
    {
      "cell_type": "code",
      "metadata": {
        "id": "Q154RcAd0bpW",
        "colab_type": "code",
        "colab": {
          "base_uri": "https://localhost:8080/",
          "height": 54
        },
        "outputId": "b63f7ba4-7e0c-4a05-e867-1d0971e42c4a"
      },
      "source": [
        "print(group_list)"
      ],
      "execution_count": 5,
      "outputs": [
        {
          "output_type": "stream",
          "text": [
            "[('variablesfinally', 1), ('deep', 1), ('section', 1), ('prints', 1), ('faster', 1), ('variables', 1), ('summary', 1), ('reliable', 1), ('lines', 1), ('on', 1), ('important', 2), ('resources', 1), ('role', 1), ('examples', 2), ('concepts', 1), ('blocks', 1), ('human', 2), ('guide', 1), ('shows', 1), ('ability', 1), ('questiondata', 1), ('indicating', 1), ('these', 1), ('roadblocks', 1), ('search', 1), ('visualize', 1), ('about', 1), ('unbiased', 1), ('part', 1), ('line', 2), ('insights', 2), ('subject', 1), ('fourth', 1), ('learn', 1), ('expertise', 1), ('couple', 1), ('code', 3), ('will', 2), ('variable', 1), ('data', 2), ('communicating', 1), ('decide', 1), ('through', 1), ('visualization', 2), ('belowthe', 1), ('which', 2), ('now', 1), ('for', 1), ('in', 4), ('12', 1), ('18', 1), ('matter', 1), ('again', 1), ('new', 1), ('exploratory', 1), ('help', 2), ('observations', 1), ('quick', 1), ('several', 1), ('we', 1), ('specific', 1), ('give', 1), ('few', 1), ('problems', 1), ('required', 1), ('made', 1), ('answers', 2), ('it', 1), ('dive', 1), ('also', 1), ('third', 1), ('analyze', 1), ('however', 1), ('look', 1), ('been', 1), ('becomes', 1), ('removes', 1), ('remove', 1), ('technical', 1), ('lot', 1), ('below', 2), ('factors', 1), ('like', 1), ('number', 1), ('results', 1), ('articles', 1), ('easy', 1), ('crucial', 1), ('data:', 1), ('guides', 2), ('three', 1), ('rwhen', 1), ('while', 1), ('generate', 1), ('generating', 1), ('one', 1), ('76', 1), ('there', 1), ('such', 3), ('correction', 1), ('features', 1), ('identify', 1), ('with', 2), ('technology', 1), ('records', 3), ('business', 2), ('dataset', 1), ('between', 1), ('566', 1), ('discussed', 1), ('domain', 1), ('dimensions', 1), ('plays', 1), ('solve', 1), ('23', 1), ('years', 2), ('useful', 1), ('knowledge', 1), ('are', 5), ('using', 1), ('real-life', 1), ('meaningful', 1), ('use', 1), ('helpful', 1), ('just-in-time', 1), ('text-based', 1), ('analysis', 1), ('first', 1), ('age', 3), ('range', 1)]\n"
          ],
          "name": "stdout"
        }
      ]
    },
    {
      "cell_type": "code",
      "metadata": {
        "id": "roS3UECB0iVb",
        "colab_type": "code",
        "colab": {}
      },
      "source": [
        ""
      ],
      "execution_count": 0,
      "outputs": []
    }
  ]
}