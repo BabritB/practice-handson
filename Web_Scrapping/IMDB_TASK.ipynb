{
 "cells": [
  {
   "cell_type": "markdown",
   "metadata": {},
   "source": [
    "# Scrap IMDB Ranking Data:"
   ]
  },
  {
   "cell_type": "code",
   "execution_count": 11,
   "metadata": {},
   "outputs": [],
   "source": [
    "# import libraries\n",
    "import urllib.request\n",
    "from bs4 import BeautifulSoup\n",
    "import csv\n",
    "import pandas as pd\n",
    "\n",
    "#page url\n",
    "pageurl=\"https://www.imdb.com/search/title/?count=100&groups=top_1000&sort=user_rating\""
   ]
  },
  {
   "cell_type": "code",
   "execution_count": 12,
   "metadata": {},
   "outputs": [],
   "source": [
    "# Get the parent div section {use inspect element to know the attributes}\n",
    "rows=[]\n",
    "rows.append(['Movie_Name','Year','Rating','Description','Director','Stars','Certificate','Runtime','Genre','Votes','Gross'])\n",
    "while True:\n",
    "    page = urllib.request.urlopen(pageurl)\n",
    "\n",
    "    soup=BeautifulSoup(page,'html.parser')\n",
    "    parent_div=soup.find('div',attrs={'class':'article'})\n",
    "    atricle_nav=parent_div.find('div',attrs={'class':'nav'}).find('div',attrs={'class':'desc'}).find('a',attrs={'class':'lister-page-next next-page'})\n",
    "    #print(type(atricle_nav))\n",
    "    # if NoneType then break\n",
    "    #print(atricle_nav.get('href'))\n",
    "    child_div_list=soup.find('div',attrs={'class':'lister-list'})\n",
    "\n",
    "    content_list_result=child_div_list.find_all('div',attrs={'class':'lister-item mode-advanced'})\n",
    "    len(content_list_result)\n",
    "    for content_fetch in content_list_result:\n",
    "        \n",
    "        ch_list=[]\n",
    "        content_div=content_fetch.find('div',attrs={'class':'lister-item-content'})\n",
    "        name=content_div.find('h3').find('a').getText()\n",
    "        year=content_div.find('h3').find('span',attrs={'class':'lister-item-year text-muted unbold'}).getText()\n",
    "        ch_list.append(name)\n",
    "        ch_list.append(year)\n",
    "        rating=content_div.find('div').find('div',attrs={'class':'inline-block ratings-imdb-rating'}).get('data-value')\n",
    "        ch_list.append(rating)\n",
    "        description=content_div.find_all('p',attrs={'class':'text-muted'})[1].getText().strip()\n",
    "        ch_list.append(description)\n",
    "        dir_start_list=content_div.find_all('p')[2].getText().replace('\\n','').strip().split('|')\n",
    "        director=dir_start_list[0].split(':')[1].strip()\n",
    "        ch_list.append(director)\n",
    "        stars=dir_start_list[1].split(':')[1].strip()\n",
    "        ch_list.append(stars)\n",
    "        movie_feature=content_div.find('p').getText().replace('\\n','').split('|')\n",
    "        try:\n",
    "            \n",
    "            certificate=content_div.find('p').find('span',attrs={'class':\"certificate\"}).getText().strip()\n",
    "        except:\n",
    "            certificate=''\n",
    "        #grade=movie_feature[0].strip()\n",
    "        ch_list.append(certificate)\n",
    "        runtime=content_div.find('p').find('span',attrs={'class':\"runtime\"}).getText()\n",
    "        ch_list.append(runtime)\n",
    "        try:\n",
    "            genre=content_div.find('p').find('span',attrs={'class':\"genre\"}).getText().replace('\\n','').strip()\n",
    "        except:\n",
    "            genre=''\n",
    "        ch_list.append(genre)\n",
    "        votes=content_div.find('p',attrs={'class':'sort-num_votes-visible'}).find_all('span',attrs={'name':'nv'})[0].get('data-value')\n",
    "        try:\n",
    "            gross=content_div.find('p',attrs={'class':'sort-num_votes-visible'}).find_all('span',attrs={'name':'nv'})[1].get('data-value')\n",
    "        except:\n",
    "            gross=''\n",
    "        ch_list.append(votes)\n",
    "        ch_list.append(gross)\n",
    "        rows.append(ch_list)\n",
    "    \n",
    "    if atricle_nav is None:break\n",
    "    else:pageurl='https://www.imdb.com'+atricle_nav.get('href').strip()"
   ]
  },
  {
   "cell_type": "code",
   "execution_count": 13,
   "metadata": {},
   "outputs": [],
   "source": [
    "## Create csv and write rows to output file\n",
    "with open('imdb-data.csv','w', newline='') as f_output:\n",
    "    csv_output = csv.writer(f_output)\n",
    "    csv_output.writerows(rows)"
   ]
  }
 ],
 "metadata": {
  "kernelspec": {
   "display_name": "Python 3",
   "language": "python",
   "name": "python3"
  },
  "language_info": {
   "codemirror_mode": {
    "name": "ipython",
    "version": 3
   },
   "file_extension": ".py",
   "mimetype": "text/x-python",
   "name": "python",
   "nbconvert_exporter": "python",
   "pygments_lexer": "ipython3",
   "version": "3.7.6"
  }
 },
 "nbformat": 4,
 "nbformat_minor": 4
}
