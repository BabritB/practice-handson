{
  "nbformat": 4,
  "nbformat_minor": 0,
  "metadata": {
    "colab": {
      "name": "Paragraph_Mode_NLTK.ipynb",
      "provenance": [],
      "authorship_tag": "ABX9TyN6J4f9RwnLG3ieRAXsCpEg",
      "include_colab_link": true
    },
    "kernelspec": {
      "name": "python3",
      "display_name": "Python 3"
    }
  },
  "cells": [
    {
      "cell_type": "markdown",
      "metadata": {
        "id": "view-in-github",
        "colab_type": "text"
      },
      "source": [
        "<a href=\"https://colab.research.google.com/github/BabritB/quality-thought-training-class/blob/master/Paragraph_Mode_NLTK.ipynb\" target=\"_parent\"><img src=\"https://colab.research.google.com/assets/colab-badge.svg\" alt=\"Open In Colab\"/></a>"
      ]
    },
    {
      "cell_type": "markdown",
      "metadata": {
        "id": "96GyrUUL81x6",
        "colab_type": "text"
      },
      "source": [
        "## Filter out highest freuency"
      ]
    },
    {
      "cell_type": "code",
      "metadata": {
        "id": "k3gWHkPH84wb",
        "colab_type": "code",
        "colab": {
          "base_uri": "https://localhost:8080/",
          "height": 51
        },
        "outputId": "53857d78-62ff-4030-a5f4-91cdf126334d"
      },
      "source": [
        "import nltk\n",
        "from nltk.corpus import stopwords\n",
        "nltk.download('stopwords')\n",
        "def group_para_words(paragraph,limit):\n",
        "    filter_para=paragraph.replace(',','').lower()\n",
        "    unwanted_words=list(set(stopwords.words('english')))\n",
        "    list_all_words=[wrd for wrd in filter_para.split(' ') if wrd not in unwanted_words]\n",
        "    wrd_freq=[list_all_words.count(n_wrd) for n_wrd in list_all_words]\n",
        "    combine_list=list(zip(list_all_words,wrd_freq))\n",
        "    grouped_words=list(set(combine_list))\n",
        "    grouped_words.sort(key=lambda x:x[1],reverse=True)\n",
        "    final_list=[mod for mod in grouped_words if grouped_words.index(mod)<limit]\n",
        "    return final_list"
      ],
      "execution_count": 15,
      "outputs": [
        {
          "output_type": "stream",
          "text": [
            "[nltk_data] Downloading package stopwords to /root/nltk_data...\n",
            "[nltk_data]   Package stopwords is already up-to-date!\n"
          ],
          "name": "stdout"
        }
      ]
    },
    {
      "cell_type": "code",
      "metadata": {
        "id": "QijdohNI9EAd",
        "colab_type": "code",
        "colab": {}
      },
      "source": [
        "paragraph=\"Guides are text-based articles that help you remove roadblocks and solve technical problems faster with reliable, just-in-time answers. With helpful resources like code blocks and real-life examples, guides are easy to search for quick answers or dive deep on a specific technology question.Data visualization plays a crucial role in exploratory data analysis and communicating business insights. However, there are several human factors that are also an important part of generating unbiased and useful results. In this guide, you will learn about these concepts, which will help you generate meaningful business insights through data visualization using R.When you have a lot of variables to analyze, it becomes important to decide which one to visualize. The human ability to use subject matter expertise and domain knowledge to identify such features is required. A few examples are discussed in the section below.The first couple of lines of code below give the number of records in the dataset that have an age below 18 years. We have three such records. The third line of code removes such records, while the fourth line prints the dimensions of the new data: 566 observations and 12 variables.Finally, look again at the summary of the age variable. This shows that the range of age is now between 23 to 76 years, indicating that the correction has been made.\""
      ],
      "execution_count": 0,
      "outputs": []
    },
    {
      "cell_type": "code",
      "metadata": {
        "id": "wVFclo1c-AEX",
        "colab_type": "code",
        "colab": {
          "base_uri": "https://localhost:8080/",
          "height": 187
        },
        "outputId": "2b11b83c-ca66-428c-e347-213b14c6d918"
      },
      "source": [
        "group_para_words(paragraph,10)"
      ],
      "execution_count": 18,
      "outputs": [
        {
          "output_type": "execute_result",
          "data": {
            "text/plain": [
              "[('age', 3),\n",
              " ('code', 3),\n",
              " ('important', 2),\n",
              " ('human', 2),\n",
              " ('visualization', 2),\n",
              " ('records', 2),\n",
              " ('examples', 2),\n",
              " ('data', 2),\n",
              " ('help', 2),\n",
              " ('line', 2)]"
            ]
          },
          "metadata": {
            "tags": []
          },
          "execution_count": 18
        }
      ]
    },
    {
      "cell_type": "code",
      "metadata": {
        "id": "yGKADlPz_wxB",
        "colab_type": "code",
        "colab": {}
      },
      "source": [
        ""
      ],
      "execution_count": 0,
      "outputs": []
    }
  ]
}